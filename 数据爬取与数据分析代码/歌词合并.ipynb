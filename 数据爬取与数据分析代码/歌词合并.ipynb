{
 "cells": [
  {
   "cell_type": "code",
   "execution_count": 1,
   "metadata": {},
   "outputs": [],
   "source": [
    "import pandas as pd\n",
    "import numpy as np"
   ]
  },
  {
   "cell_type": "code",
   "execution_count": 2,
   "metadata": {},
   "outputs": [],
   "source": [
    "cleanFrame1 = pd.read_csv(r'H:\\NJU Documents\\抖音数据分析ppt\\数据分析\\清洗之后的建模表.csv')"
   ]
  },
  {
   "cell_type": "code",
   "execution_count": 4,
   "metadata": {},
   "outputs": [
    {
     "name": "stdout",
     "output_type": "stream",
     "text": [
      "<class 'pandas.core.frame.DataFrame'>\n",
      "RangeIndex: 1410 entries, 0 to 1409\n",
      "Data columns (total 19 columns):\n",
      " #   Column            Non-Null Count  Dtype  \n",
      "---  ------            --------------  -----  \n",
      " 0   Unnamed: 0        1410 non-null   int64  \n",
      " 1   Column1           1410 non-null   int64  \n",
      " 2   Unnamed: 0.1      1410 non-null   int64  \n",
      " 3   Unnamed: 0.1.1    1410 non-null   int64  \n",
      " 4   score             1410 non-null   int64  \n",
      " 5   goods_name        1410 non-null   object \n",
      " 6   type              1410 non-null   object \n",
      " 7   similarity        1410 non-null   float64\n",
      " 8   goods_whole_sale  1410 non-null   float64\n",
      " 9   video_like        1410 non-null   float64\n",
      " 10  video_comment     1410 non-null   float64\n",
      " 11  video_forward     1410 non-null   float64\n",
      " 12  bgm               1410 non-null   object \n",
      " 13  language          1114 non-null   object \n",
      " 14  genre             945 non-null    object \n",
      " 15  public_time       1106 non-null   object \n",
      " 16  emotion           1410 non-null   object \n",
      " 17  filename          1410 non-null   object \n",
      " 18  bpm               1410 non-null   float64\n",
      "dtypes: float64(6), int64(5), object(8)\n",
      "memory usage: 209.4+ KB\n"
     ]
    }
   ],
   "source": [
    "cleanFrame1.info()"
   ]
  },
  {
   "cell_type": "code",
   "execution_count": 5,
   "metadata": {},
   "outputs": [],
   "source": [
    "emptyFrame = pd.DataFrame()"
   ]
  },
  {
   "cell_type": "code",
   "execution_count": 6,
   "metadata": {},
   "outputs": [],
   "source": [
    "emptyFrame['filename'] = ''\n",
    "emptyFrame['genre'] = ''"
   ]
  },
  {
   "cell_type": "code",
   "execution_count": 7,
   "metadata": {},
   "outputs": [
    {
     "data": {
      "text/html": [
       "<div>\n",
       "<style scoped>\n",
       "    .dataframe tbody tr th:only-of-type {\n",
       "        vertical-align: middle;\n",
       "    }\n",
       "\n",
       "    .dataframe tbody tr th {\n",
       "        vertical-align: top;\n",
       "    }\n",
       "\n",
       "    .dataframe thead th {\n",
       "        text-align: right;\n",
       "    }\n",
       "</style>\n",
       "<table border=\"1\" class=\"dataframe\">\n",
       "  <thead>\n",
       "    <tr style=\"text-align: right;\">\n",
       "      <th></th>\n",
       "      <th>filename</th>\n",
       "      <th>genre</th>\n",
       "    </tr>\n",
       "  </thead>\n",
       "  <tbody>\n",
       "  </tbody>\n",
       "</table>\n",
       "</div>"
      ],
      "text/plain": [
       "Empty DataFrame\n",
       "Columns: [filename, genre]\n",
       "Index: []"
      ]
     },
     "execution_count": 7,
     "metadata": {},
     "output_type": "execute_result"
    }
   ],
   "source": [
    "emptyFrame"
   ]
  },
  {
   "cell_type": "code",
   "execution_count": 12,
   "metadata": {},
   "outputs": [],
   "source": [
    "cnt = 0\n",
    "for i in range(len(cleanFrame1)):\n",
    "    if pd.isna(cleanFrame1.iloc[i]['genre']):\n",
    "        emptyFrame.loc[cnt, 'filename'] = cleanFrame1.iloc[i]['filename']\n",
    "        cnt = cnt + 1"
   ]
  },
  {
   "cell_type": "code",
   "execution_count": 16,
   "metadata": {},
   "outputs": [],
   "source": [
    "emptyFrame.to_csv(r'H:\\NJU Documents\\tiktok\\数据分析\\建模缺少流派的数据集.csv')"
   ]
  },
  {
   "cell_type": "code",
   "execution_count": null,
   "metadata": {},
   "outputs": [],
   "source": []
  }
 ],
 "metadata": {
  "kernelspec": {
   "display_name": "Python 3",
   "language": "python",
   "name": "python3"
  },
  "language_info": {
   "codemirror_mode": {
    "name": "ipython",
    "version": 3
   },
   "file_extension": ".py",
   "mimetype": "text/x-python",
   "name": "python",
   "nbconvert_exporter": "python",
   "pygments_lexer": "ipython3",
   "version": "3.7.7"
  }
 },
 "nbformat": 4,
 "nbformat_minor": 4
}
