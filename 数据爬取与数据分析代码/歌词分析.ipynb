{
 "cells": [
  {
   "cell_type": "code",
   "execution_count": 11,
   "metadata": {
    "scrolled": true
   },
   "outputs": [
    {
     "ename": "ModuleNotFoundError",
     "evalue": "No module named 'paddle.fluid'",
     "output_type": "error",
     "traceback": [
      "\u001b[1;31m---------------------------------------------------------------------------\u001b[0m",
      "\u001b[1;31mModuleNotFoundError\u001b[0m                       Traceback (most recent call last)",
      "\u001b[1;32m<ipython-input-11-c1f492caeda4>\u001b[0m in \u001b[0;36m<module>\u001b[1;34m\u001b[0m\n\u001b[0;32m      1\u001b[0m \u001b[1;32mfrom\u001b[0m \u001b[0msnownlp\u001b[0m \u001b[1;32mimport\u001b[0m \u001b[0mSnowNLP\u001b[0m\u001b[1;33m\u001b[0m\u001b[1;33m\u001b[0m\u001b[0m\n\u001b[1;32m----> 2\u001b[1;33m \u001b[1;32mimport\u001b[0m \u001b[0mpaddlehub\u001b[0m \u001b[1;32mas\u001b[0m \u001b[0mhub\u001b[0m\u001b[1;33m\u001b[0m\u001b[1;33m\u001b[0m\u001b[0m\n\u001b[0m\u001b[0;32m      3\u001b[0m \u001b[1;32mimport\u001b[0m \u001b[0mos\u001b[0m\u001b[1;33m\u001b[0m\u001b[1;33m\u001b[0m\u001b[0m\n\u001b[0;32m      4\u001b[0m \u001b[1;32mimport\u001b[0m \u001b[0mcsv\u001b[0m\u001b[1;33m\u001b[0m\u001b[1;33m\u001b[0m\u001b[0m\n\u001b[0;32m      5\u001b[0m \u001b[1;33m\u001b[0m\u001b[0m\n",
      "\u001b[1;32mh:\\packages\\lib\\site-packages\\paddlehub\\__init__.py\u001b[0m in \u001b[0;36m<module>\u001b[1;34m\u001b[0m\n\u001b[0;32m     25\u001b[0m \u001b[1;32mfrom\u001b[0m \u001b[1;33m.\u001b[0m\u001b[0mversion\u001b[0m \u001b[1;32mimport\u001b[0m \u001b[0mhub_version\u001b[0m \u001b[1;32mas\u001b[0m \u001b[0m__version__\u001b[0m\u001b[1;33m\u001b[0m\u001b[1;33m\u001b[0m\u001b[0m\n\u001b[0;32m     26\u001b[0m \u001b[1;33m\u001b[0m\u001b[0m\n\u001b[1;32m---> 27\u001b[1;33m \u001b[1;32mfrom\u001b[0m \u001b[1;33m.\u001b[0m \u001b[1;32mimport\u001b[0m \u001b[0mmodule\u001b[0m\u001b[1;33m\u001b[0m\u001b[1;33m\u001b[0m\u001b[0m\n\u001b[0m\u001b[0;32m     28\u001b[0m \u001b[1;32mfrom\u001b[0m \u001b[1;33m.\u001b[0m \u001b[1;32mimport\u001b[0m \u001b[0mcommon\u001b[0m\u001b[1;33m\u001b[0m\u001b[1;33m\u001b[0m\u001b[0m\n\u001b[0;32m     29\u001b[0m \u001b[1;32mfrom\u001b[0m \u001b[1;33m.\u001b[0m \u001b[1;32mimport\u001b[0m \u001b[0mio\u001b[0m\u001b[1;33m\u001b[0m\u001b[1;33m\u001b[0m\u001b[0m\n",
      "\u001b[1;32mh:\\packages\\lib\\site-packages\\paddlehub\\module\\__init__.py\u001b[0m in \u001b[0;36m<module>\u001b[1;34m\u001b[0m\n\u001b[0;32m     14\u001b[0m \u001b[1;31m# limitations under the License.\u001b[0m\u001b[1;33m\u001b[0m\u001b[1;33m\u001b[0m\u001b[1;33m\u001b[0m\u001b[0m\n\u001b[0;32m     15\u001b[0m \u001b[1;33m\u001b[0m\u001b[0m\n\u001b[1;32m---> 16\u001b[1;33m \u001b[1;32mfrom\u001b[0m \u001b[1;33m.\u001b[0m \u001b[1;32mimport\u001b[0m \u001b[0mmodule\u001b[0m\u001b[1;33m\u001b[0m\u001b[1;33m\u001b[0m\u001b[0m\n\u001b[0m\u001b[0;32m     17\u001b[0m \u001b[1;32mfrom\u001b[0m \u001b[1;33m.\u001b[0m \u001b[1;32mimport\u001b[0m \u001b[0msignature\u001b[0m\u001b[1;33m\u001b[0m\u001b[1;33m\u001b[0m\u001b[0m\n",
      "\u001b[1;32mh:\\packages\\lib\\site-packages\\paddlehub\\module\\module.py\u001b[0m in \u001b[0;36m<module>\u001b[1;34m\u001b[0m\n\u001b[0;32m     27\u001b[0m \u001b[1;33m\u001b[0m\u001b[0m\n\u001b[0;32m     28\u001b[0m \u001b[1;32mimport\u001b[0m \u001b[0mpaddle\u001b[0m\u001b[1;33m\u001b[0m\u001b[1;33m\u001b[0m\u001b[0m\n\u001b[1;32m---> 29\u001b[1;33m \u001b[1;32mimport\u001b[0m \u001b[0mpaddle\u001b[0m\u001b[1;33m.\u001b[0m\u001b[0mfluid\u001b[0m \u001b[1;32mas\u001b[0m \u001b[0mfluid\u001b[0m\u001b[1;33m\u001b[0m\u001b[1;33m\u001b[0m\u001b[0m\n\u001b[0m\u001b[0;32m     30\u001b[0m \u001b[1;33m\u001b[0m\u001b[0m\n\u001b[0;32m     31\u001b[0m \u001b[1;32mfrom\u001b[0m \u001b[0mpaddlehub\u001b[0m\u001b[1;33m.\u001b[0m\u001b[0mcommon\u001b[0m \u001b[1;32mimport\u001b[0m \u001b[0mutils\u001b[0m\u001b[1;33m\u001b[0m\u001b[1;33m\u001b[0m\u001b[0m\n",
      "\u001b[1;31mModuleNotFoundError\u001b[0m: No module named 'paddle.fluid'"
     ]
    }
   ],
   "source": [
    "from snownlp import SnowNLP\n",
    "import paddlehub as hub\n",
    "import os\n",
    "import csv\n",
    "\n",
    "rootdir = r'H:\\NJU Documents\\抖音数据分析ppt\\歌词'\n",
    "list = os.listdir(rootdir)\n",
    "all=[]\n",
    "senta = hub.Module(name=\"senta_lstm\")\n",
    "\n",
    "for i in range(0, len(list)):\n",
    "    path = os.path.join(rootdir, list[i])\n",
    "    sent=\"\"\n",
    "    posi=0\n",
    "    nega=0\n",
    "    with open(path, encoding='utf-8') as f:\n",
    "        print(path)\n",
    "        test = f.readline().replace(' ', '')\n",
    "        try:\n",
    "            if(len(test)>20 and '\\u4e00' <= test[0] <= '\\u9fff'):\n",
    "                test_text = [test]\n",
    "                # 情感分类\n",
    "                results = senta.sentiment_classify(data={\"text\": test_text})\n",
    "                # 得到结果\n",
    "                for result in results:\n",
    "                    # 整体情感偏向\n",
    "                    print(\"该歌词的情感倾向为\" + result['sentiment_key'])\n",
    "                    # 积极比\n",
    "                    print(\"该歌词的积极情感倾向为\")\n",
    "                    print(result['positive_probs'])\n",
    "                    # 消极比\n",
    "                    print(\"该歌词的消极情感倾向为\")\n",
    "                    print(result['negative_probs'])\n",
    "                sent=result['sentiment_key']\n",
    "                posi=result['positive_probs']\n",
    "                nega=result['negative_probs']\n",
    "                # 词性分类并统计\n",
    "                s = SnowNLP(test)\n",
    "                tags = [x for x in s.tags]\n",
    "                vcount = 0\n",
    "                ncount = 0\n",
    "                acount = 0\n",
    "                for tag in tags:\n",
    "                    if tag[1] == 'v':\n",
    "                        vcount += 1\n",
    "                    elif tag[1] == 'n':\n",
    "                        ncount += 1\n",
    "                    elif tag[1] == 'a':\n",
    "                        acount += 1\n",
    "                words = {'动词': vcount, '名词': ncount, '形容词': acount}\n",
    "                max = 0\n",
    "                maxword = \"\"\n",
    "                for x in s.keywords(limit=10):\n",
    "                    if s.words.count(x) > max:\n",
    "                        max = s.words.count(x)\n",
    "                        maxword = x\n",
    "            else:\n",
    "                s = SnowNLP(test)\n",
    "\n",
    "                if s.sentiments>0.5:\n",
    "                    sent=\"positive\"\n",
    "\n",
    "                else:\n",
    "                    sent=\"negative\"\n",
    "                posi=s.sentiments\n",
    "                nega=1-posi\n",
    "                tags = [x for x in s.tags]\n",
    "                vcount = 0\n",
    "                ncount = 0\n",
    "                acount = 0\n",
    "                for tag in tags:\n",
    "                    if tag[1] == 'v':\n",
    "                        vcount += 1\n",
    "                    elif tag[1] == 'n':\n",
    "                        ncount += 1\n",
    "                    elif tag[1] == 'a':\n",
    "                        acount += 1\n",
    "                words = {'动词': vcount, '名词': ncount, '形容词': acount}\n",
    "                max = 0\n",
    "                maxword = \"\"\n",
    "                for x in s.keywords(limit=10):\n",
    "                    if s.words.count(x) > max:\n",
    "                        max = s.words.count(x)\n",
    "                        maxword = x\n",
    "            #want 每首歌词分析结果\n",
    "            want=[path[3:],sent,str(posi)[0:6],str(nega)[0:6],words,s.keywords(limit=10)]\n",
    "            #all 全部分析结果\n",
    "            all.append(want)\n",
    "            count+=1\n",
    "            print(count)\n",
    "        except:\n",
    "            errors+=1"
   ]
  },
  {
   "cell_type": "code",
   "execution_count": 12,
   "metadata": {},
   "outputs": [],
   "source": [
    "import paddle"
   ]
  },
  {
   "cell_type": "code",
   "execution_count": 15,
   "metadata": {},
   "outputs": [
    {
     "ename": "AttributeError",
     "evalue": "module 'paddle' has no attribute 'batch'",
     "output_type": "error",
     "traceback": [
      "\u001b[1;31m---------------------------------------------------------------------------\u001b[0m",
      "\u001b[1;31mAttributeError\u001b[0m                            Traceback (most recent call last)",
      "\u001b[1;32m<ipython-input-15-bff4f66f6116>\u001b[0m in \u001b[0;36m<module>\u001b[1;34m\u001b[0m\n\u001b[1;32m----> 1\u001b[1;33m \u001b[1;32mimport\u001b[0m \u001b[0mpaddle\u001b[0m\u001b[1;33m.\u001b[0m\u001b[0mfluid\u001b[0m\u001b[1;33m\u001b[0m\u001b[1;33m\u001b[0m\u001b[0m\n\u001b[0m",
      "\u001b[1;32mh:\\packages\\lib\\site-packages\\paddle\\fluid\\__init__.py\u001b[0m in \u001b[0;36m<module>\u001b[1;34m\u001b[0m\n\u001b[0;32m     49\u001b[0m \u001b[1;32mfrom\u001b[0m \u001b[1;33m.\u001b[0m \u001b[1;32mimport\u001b[0m \u001b[0mtrainer_desc\u001b[0m\u001b[1;33m\u001b[0m\u001b[1;33m\u001b[0m\u001b[0m\n\u001b[0;32m     50\u001b[0m \u001b[1;33m\u001b[0m\u001b[0m\n\u001b[1;32m---> 51\u001b[1;33m \u001b[1;32mfrom\u001b[0m \u001b[1;33m.\u001b[0m \u001b[1;32mimport\u001b[0m \u001b[0mio\u001b[0m\u001b[1;33m\u001b[0m\u001b[1;33m\u001b[0m\u001b[0m\n\u001b[0m\u001b[0;32m     52\u001b[0m \u001b[1;32mfrom\u001b[0m \u001b[1;33m.\u001b[0m \u001b[1;32mimport\u001b[0m \u001b[0mevaluator\u001b[0m\u001b[1;33m\u001b[0m\u001b[1;33m\u001b[0m\u001b[0m\n\u001b[0;32m     53\u001b[0m \u001b[1;32mfrom\u001b[0m \u001b[1;33m.\u001b[0m \u001b[1;32mimport\u001b[0m \u001b[0minitializer\u001b[0m\u001b[1;33m\u001b[0m\u001b[1;33m\u001b[0m\u001b[0m\n",
      "\u001b[1;32mh:\\packages\\lib\\site-packages\\paddle\\fluid\\io.py\u001b[0m in \u001b[0;36m<module>\u001b[1;34m\u001b[0m\n\u001b[0;32m     44\u001b[0m \u001b[1;32mfrom\u001b[0m \u001b[1;33m.\u001b[0m\u001b[1;33m.\u001b[0m \u001b[1;32mimport\u001b[0m \u001b[0mcompat\u001b[0m \u001b[1;32mas\u001b[0m \u001b[0mcpt\u001b[0m\u001b[1;33m\u001b[0m\u001b[1;33m\u001b[0m\u001b[0m\n\u001b[0;32m     45\u001b[0m \u001b[1;33m\u001b[0m\u001b[0m\n\u001b[1;32m---> 46\u001b[1;33m \u001b[0mbatch\u001b[0m \u001b[1;33m=\u001b[0m \u001b[0mpaddle\u001b[0m\u001b[1;33m.\u001b[0m\u001b[0mbatch\u001b[0m\u001b[1;33m\u001b[0m\u001b[1;33m\u001b[0m\u001b[0m\n\u001b[0m\u001b[0;32m     47\u001b[0m \u001b[1;33m\u001b[0m\u001b[0m\n\u001b[0;32m     48\u001b[0m __all__ = [\n",
      "\u001b[1;31mAttributeError\u001b[0m: module 'paddle' has no attribute 'batch'"
     ]
    }
   ],
   "source": [
    "import paddle.fluid"
   ]
  },
  {
   "cell_type": "code",
   "execution_count": null,
   "metadata": {},
   "outputs": [],
   "source": []
  }
 ],
 "metadata": {
  "kernelspec": {
   "display_name": "Python 3",
   "language": "python",
   "name": "python3"
  },
  "language_info": {
   "codemirror_mode": {
    "name": "ipython",
    "version": 3
   },
   "file_extension": ".py",
   "mimetype": "text/x-python",
   "name": "python",
   "nbconvert_exporter": "python",
   "pygments_lexer": "ipython3",
   "version": "3.7.7"
  }
 },
 "nbformat": 4,
 "nbformat_minor": 4
}
